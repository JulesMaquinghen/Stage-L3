{
 "cells": [
  {
   "cell_type": "code",
   "execution_count": 1,
   "id": "a62d8156-5cf3-4ec7-bfa4-4406a75e6045",
   "metadata": {},
   "outputs": [],
   "source": [
    "import numpy as np\n",
    "import scipy\n",
    "from astropy.io import fits\n",
    "from astropy.table import Table\n",
    "from astropy.io import fits\n",
    "import matplotlib.pyplot as plt\n",
    "from astropy.table import Table\n",
    "from astropy.coordinates import SkyCoord\n",
    "import astropy.units as u\n",
    "from astropy.cosmology import Planck18 as cosmo\n",
    "from functools import partial\n",
    "import time"
   ]
  },
  {
   "cell_type": "code",
   "execution_count": 2,
   "id": "0e5129d7-78e6-4676-bba2-f36fb8e48eaf",
   "metadata": {},
   "outputs": [
    {
     "name": "stdout",
     "output_type": "stream",
     "text": [
      "liste des coupures : [20. 25. 30. 35. 40. 45. 50. 55. 60. 65. 70. 75. 80.]\n"
     ]
    }
   ],
   "source": [
    "path_halo = '/sps/lsst/groups/clusters/cluster_comparison_project/after_matching/cosmoDC2_pywazp.DC2.tpz.T500k.pointEstimateMags/zband/member_matching/fshare_0.1_pref_more_massive/cat1.fits'\n",
    "\n",
    "path_amas = '/sps/lsst/groups/clusters/cluster_comparison_project/after_matching/cosmoDC2_pywazp.DC2.tpz.T500k.pointEstimateMags/zband/member_matching/fshare_0.1_pref_more_massive/cat2.fits'\n",
    "\n",
    "t = Table.read(path_amas)\n",
    "\n",
    "def table(path):\n",
    "    with fits.open(path) as hdul:\n",
    "        table = Table(hdul[1].data)\n",
    "    return table\n",
    "\n",
    "t_halo = table(path_halo)\n",
    "t_amas = table(path_amas)\n",
    "t_amas_match = t_amas[t_amas[\"mt_cross\"] !='']\n",
    "\n",
    "M = []\n",
    "for id in t_amas_match[\"mt_cross\"]:\n",
    "    ligne = t_halo[t_halo[\"halo_id\"] == id]\n",
    "    M.append(ligne[\"m200c\"][0])\n",
    "t_amas_match[\"M\"] = M\n",
    "t_amas_match = t_amas_match[t_amas_match[\"snr\"]>6]\n",
    "\n",
    "def tableau_coupure_n200(coupure):\n",
    "    return t_amas_match[t_amas_match[\"n200\"]>coupure]\n",
    "\n",
    "Mp, zp = 10**14.3, 0.5\n",
    "list_coupures = np.linspace(20, 80, 13)\n",
    "print(\"liste des coupures :\", list_coupures)"
   ]
  },
  {
   "cell_type": "code",
   "execution_count": 3,
   "id": "0bae98b6-a3ca-43c8-888d-ed6563cb18ae",
   "metadata": {},
   "outputs": [],
   "source": [
    "#X est le catalogue\n",
    "def _ln_L(params, X):\n",
    "    A, B, C, D, E, F = params\n",
    "    #A, B, D = params\n",
    "    C, E, F = 0, 0, 0  # on fixe 3 paramètr\n",
    "    pop, M, z = np.log(X[\"n200\"]), X[\"M\"], X[\"zp\"]\n",
    "    mean_alpha = A + B*np.log(M/Mp) + C*np.log((1+z)/(1+zp))\n",
    "    sigma = D + E*np.log(M/Mp) + F*np.log((1+z)/(1+zp))\n",
    "    sigma = np.clip(sigma, 1e-5, None)\n",
    "    #print(\"sigma max/min :\", max(sigma), min(sigma))\n",
    "    #log-Vraissemblance\n",
    "    ln_L = - sum(np.log(sigma*(2*np.pi)**0.5)) - sum(0.5*((pop-mean_alpha)/sigma)**2)\n",
    "    #print(-ln_L)\n",
    "    return -ln_L"
   ]
  },
  {
   "cell_type": "code",
   "execution_count": 16,
   "id": "326bd217-9849-4547-8dba-50de219de2f8",
   "metadata": {},
   "outputs": [],
   "source": [
    "# Domaine de E exploré :\n",
    "A = 4.264\n",
    "B = 0.268\n",
    "C = np.arange(-4, 4, 0.1)\n",
    "D = 0.259\n",
    "E = np.arange(-4, 4, 0.1)\n",
    "F = np.arange(-4, 4, 0.1)\n",
    "\n",
    "X = t_amas_match[t_amas_match[\"n200\"]>50]\n"
   ]
  },
  {
   "cell_type": "code",
   "execution_count": 20,
   "id": "acb8d79e-4080-4065-b592-b4c4d1c83f26",
   "metadata": {},
   "outputs": [
    {
     "name": "stdout",
     "output_type": "stream",
     "text": [
      "progression : 5.0 %\n",
      "Temps restant estimé : 10m 45s\n",
      "progression : 10.0 %\n",
      "Temps restant estimé : 10m 8s\n",
      "progression : 15.0 %\n",
      "Temps restant estimé : 9m 35s\n",
      "progression : 20.0 %\n",
      "Temps restant estimé : 9m 8s\n",
      "progression : 25.0 %\n",
      "Temps restant estimé : 8m 38s\n",
      "progression : 30.0 %\n",
      "Temps restant estimé : 7m 55s\n",
      "progression : 35.0 %\n",
      "Temps restant estimé : 7m 24s\n",
      "progression : 40.0 %\n",
      "Temps restant estimé : 6m 54s\n",
      "progression : 45.0 %\n",
      "Temps restant estimé : 6m 12s\n",
      "progression : 50.0 %\n",
      "Temps restant estimé : 5m 40s\n",
      "progression : 55.0 %\n",
      "Temps restant estimé : 5m 8s\n",
      "progression : 60.0 %\n",
      "Temps restant estimé : 4m 30s\n",
      "progression : 65.0 %\n",
      "Temps restant estimé : 3m 57s\n",
      "progression : 70.0 %\n",
      "Temps restant estimé : 3m 26s\n",
      "progression : 75.0 %\n",
      "Temps restant estimé : 2m 48s\n",
      "progression : 80.0 %\n",
      "Temps restant estimé : 2m 15s\n",
      "progression : 85.0 %\n",
      "Temps restant estimé : 1m 43s\n",
      "progression : 90.0 %\n",
      "Temps restant estimé : 1m 7s\n",
      "progression : 95.0 %\n",
      "Temps restant estimé : 0m 34s\n"
     ]
    }
   ],
   "source": [
    "N = len(C)\n",
    "L = np.zeros((N, N, N), dtype = float)\n",
    "T = time.time()\n",
    "for i in range(N):\n",
    "    if (100*i/N) % 5 == 0 and i != 0:\n",
    "        dt = time.time() - T\n",
    "        t_restant = (1-i/N)*20*dt\n",
    "        print(\"progression : \"+str(round(100*i/N, 0))+\" %\")\n",
    "        print(\"Temps restant estimé : \"+str(int(t_restant//60))+\"m \"+str(int(t_restant%60))+\"s\")\n",
    "        T = time.time()\n",
    "    for j in range(N):\n",
    "        for k in range(N):\n",
    "            L[i][j][k] = _ln_L(params = (A, B, C[i], D, E[j], F[k]), X = X)"
   ]
  },
  {
   "cell_type": "code",
   "execution_count": 23,
   "id": "fffe30fd-d7ed-4564-a133-6b8429a373cf",
   "metadata": {},
   "outputs": [
    {
     "name": "stdout",
     "output_type": "stream",
     "text": [
      "A = 4.264\n",
      "B = 0.268\n",
      "C = -4.0\n",
      "D = 0.259\n",
      "E = -4.0\n",
      "F = -4.0\n"
     ]
    }
   ],
   "source": [
    "mini = (L[0][0][0], (0, 0, 0))\n",
    "for i in range(N):\n",
    "    for j in range(N):\n",
    "        for k in range(N):\n",
    "            l = L[i][j][k]\n",
    "            if l < mini[0]:\n",
    "                mini = (l, (i, j, k))\n",
    "i, j, k = mini[1]                \n",
    "print(\"A =\", A)\n",
    "print(\"B =\", B)\n",
    "print(\"C =\", C[i])\n",
    "print(\"D =\", D)\n",
    "print(\"E =\", E[j])\n",
    "print(\"F =\", F[k])"
   ]
  },
  {
   "cell_type": "code",
   "execution_count": 24,
   "id": "34df9235-861d-43dd-a15e-e16d9c7b0b02",
   "metadata": {},
   "outputs": [
    {
     "name": "stdout",
     "output_type": "stream",
     "text": [
      "59.52801419215638\n",
      "59.52801419215638\n"
     ]
    }
   ],
   "source": [
    "print(L[i][j][k])\n",
    "print(L.min())"
   ]
  },
  {
   "cell_type": "code",
   "execution_count": null,
   "id": "d02b9bf8-b877-4268-9d86-c50902e19ef3",
   "metadata": {},
   "outputs": [],
   "source": []
  }
 ],
 "metadata": {
  "kernelspec": {
   "display_name": "kernel",
   "language": "python",
   "name": "kernel"
  },
  "language_info": {
   "codemirror_mode": {
    "name": "ipython",
    "version": 3
   },
   "file_extension": ".py",
   "mimetype": "text/x-python",
   "name": "python",
   "nbconvert_exporter": "python",
   "pygments_lexer": "ipython3",
   "version": "3.12.10"
  }
 },
 "nbformat": 4,
 "nbformat_minor": 5
}
