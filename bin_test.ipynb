{
 "cells": [
  {
   "cell_type": "code",
   "execution_count": 10,
   "id": "0fea3353-e612-4bfb-ba3c-56201531feeb",
   "metadata": {},
   "outputs": [],
   "source": [
    "import numpy as np\n",
    "import scipy\n",
    "from astropy.io import fits\n",
    "from astropy.table import Table\n",
    "from astropy.io import fits\n",
    "import matplotlib.pyplot as plt\n",
    "from astropy.table import Table\n",
    "from astropy.coordinates import SkyCoord\n",
    "import astropy.units as u\n",
    "from astropy.cosmology import Planck18 as cosmo\n",
    "from functools import partial\n",
    "import time"
   ]
  },
  {
   "cell_type": "code",
   "execution_count": 11,
   "id": "2ffaf4c2-1eec-4c40-8a6c-e43a7dae5113",
   "metadata": {},
   "outputs": [
    {
     "name": "stdout",
     "output_type": "stream",
     "text": [
      "liste des coupures : [20. 25. 30. 35. 40. 45. 50. 55. 60. 65. 70. 75. 80.]\n"
     ]
    }
   ],
   "source": [
    "path_halo = '/sps/lsst/groups/clusters/cluster_comparison_project/after_matching/cosmoDC2_pywazp.DC2.tpz.T500k.pointEstimateMags/zband/member_matching/fshare_0.1_pref_more_massive/cat1.fits'\n",
    "\n",
    "path_amas = '/sps/lsst/groups/clusters/cluster_comparison_project/after_matching/cosmoDC2_pywazp.DC2.tpz.T500k.pointEstimateMags/zband/member_matching/fshare_0.1_pref_more_massive/cat2.fits'\n",
    "\n",
    "t = Table.read(path_amas)\n",
    "\n",
    "def table(path):\n",
    "    with fits.open(path) as hdul:\n",
    "        table = Table(hdul[1].data)\n",
    "    return table\n",
    "\n",
    "t_halo = table(path_halo)\n",
    "t_amas = table(path_amas)\n",
    "t_amas_match = t_amas[t_amas[\"mt_cross\"] !='']\n",
    "\n",
    "M = []\n",
    "for id in t_amas_match[\"mt_cross\"]:\n",
    "    ligne = t_halo[t_halo[\"halo_id\"] == id]\n",
    "    M.append(ligne[\"m200c\"][0])\n",
    "t_amas_match[\"M\"] = M\n",
    "t_amas_match = t_amas_match[t_amas_match[\"snr\"]>6]\n",
    "\n",
    "def tableau_coupure_n200(coupure):\n",
    "    return t_amas_match[t_amas_match[\"n200\"]>coupure]\n",
    "\n",
    "Mp, zp = 10**14.3, 0.5\n",
    "list_coupures = np.linspace(20, 80, 13)\n",
    "print(\"liste des coupures :\", list_coupures)"
   ]
  },
  {
   "cell_type": "code",
   "execution_count": 55,
   "id": "740d1378-6fce-4fd6-bddb-5643362b7846",
   "metadata": {},
   "outputs": [],
   "source": [
    "# permet de récupérer des valeurs numériques pour moy et sigma à partir d'un bin\n",
    "def _ln_L_1(params, X):\n",
    "    moy, sigma = params\n",
    "    moy, sigma = moy*np.ones(len(X)), sigma*np.ones(len(X))\n",
    "    pop, M, z = np.log(X[\"n200\"]), X[\"M\"], X[\"zp\"]\n",
    "    ln_L = - sum(np.log(sigma*(2*np.pi)**0.5)) - sum(0.5*((pop-moy)/sigma)**2)\n",
    "    return -ln_L\n",
    "\n",
    "# permet de récupérer A, B, C à partir des moyennes\n",
    "def _ln_L_2(params, X, moy):\n",
    "    A, B, C = params\n",
    "    pop, M, z = np.log(X[\"n200\"]), X[\"M\"], X[\"zp\"]\n",
    "    f = A + B*np.log(M/Mp) + C*np.log((1+z)/(1+zp))\n",
    "    return np.sum((moy - f)**2)"
   ]
  },
  {
   "cell_type": "code",
   "execution_count": 44,
   "id": "fbc98685-8def-49f4-b9c6-1795fa962eba",
   "metadata": {},
   "outputs": [],
   "source": [
    "def minimize_1(X, p0):\n",
    "    bounds = [\n",
    "    (1, np.inf),  # moy\n",
    "    (1e-3, np.inf),  # std\n",
    "    ]\n",
    "    res = scipy.optimize.minimize(_ln_L_1, p0, args=(X,), method='L-BFGS-B', bounds = bounds)\n",
    "    if not res.success:\n",
    "        return [None]\n",
    "    return res.x\n",
    "\n",
    "def minimize_2(X, moy, p0 = [None]):\n",
    "    if p0[0] == None:\n",
    "        p0 = np.random.uniform(1e-3, 0.2, 3)  # [A, B, C]\n",
    "    bounds = [\n",
    "    (0, np.inf),  # A\n",
    "    (0, np.inf),  # B\n",
    "    (-2, 2)       # C\n",
    "    ]\n",
    "    res = scipy.optimize.minimize(_ln_L_2, p0, args=(X, moy), method='L-BFGS-B', bounds = bounds)\n",
    "    if not res.success:\n",
    "        return [None]\n",
    "    return res.x\n",
    "\n",
    "def minimize_3(X, std, p0 = [None]):\n",
    "    if p0[0] == None:\n",
    "        p0 = np.random.uniform(1e-3, 0.2, 3)  # [D, E, F]\n",
    "    bounds = [\n",
    "    (0, np.inf),  # D\n",
    "    (-2, 2),      # E\n",
    "    (-2, 2)       # F\n",
    "    ]\n",
    "    res = scipy.optimize.minimize(_ln_L_2, p0, args=(X, std), method='L-BFGS-B', bounds = bounds)\n",
    "    if not res.success:\n",
    "        return [None]\n",
    "    return res.x"
   ]
  },
  {
   "cell_type": "code",
   "execution_count": 61,
   "id": "96f1ff4d-d216-49ec-a9f4-f2b3bfa5d4cb",
   "metadata": {},
   "outputs": [],
   "source": [
    "BIN = []\n",
    "BIN.append(t_amas_match[(t_amas_match[\"n200\"] > 20)])\n",
    "BIN.append(t_amas_match[(t_amas_match[\"n200\"] > 30)])\n",
    "BIN.append(t_amas_match[(t_amas_match[\"n200\"] > 40)])\n",
    "BIN.append(t_amas_match[(t_amas_match[\"n200\"] > 50)])\n",
    "BIN.append(t_amas_match[(t_amas_match[\"n200\"] > 60)])\n",
    "BIN.append(t_amas_match[(t_amas_match[\"n200\"] > 70)])\n",
    "BIN.append(t_amas_match[(t_amas_match[\"n200\"] > 80)])"
   ]
  },
  {
   "cell_type": "code",
   "execution_count": 62,
   "id": "1ec28404-82c0-4251-8cb3-492f10a6a380",
   "metadata": {},
   "outputs": [
    {
     "name": "stdout",
     "output_type": "stream",
     "text": [
      "[3.4564084647682076, 3.809300336876186, 4.0637432535418325, 4.2579649065788985, 4.40758760917497, 4.549866401479801, 4.6619984843175555]\n",
      "[0.40421682120463176, 0.36055990899571266, 0.32894673541141106, 0.30255442036455443, 0.2872932209789954, 0.2745537462322329, 0.2650594738153503]\n"
     ]
    }
   ],
   "source": [
    "MOY = []\n",
    "STD = []\n",
    "for j in BIN:\n",
    "    p0 = np.array([j[\"n200\"].mean(), np.std(j[\"n200\"])])\n",
    "    res = minimize_1(X = j, p0 = p0)\n",
    "    if res[0] != None:\n",
    "        MOY.append(float(res[0]))\n",
    "        STD.append(float(res[1]))\n",
    "print(MOY)\n",
    "print(STD)"
   ]
  },
  {
   "cell_type": "code",
   "execution_count": 63,
   "id": "71d18904-478e-4e94-b242-a7c792602bc2",
   "metadata": {},
   "outputs": [
    {
     "name": "stdout",
     "output_type": "stream",
     "text": [
      "0\n",
      "[3.45640846e+00 0.00000000e+00 2.29504399e-08] [ 4.04216802e-01 -2.11883041e-08 -2.29445343e-08]\n",
      "1\n",
      "[3.80930033e+00 0.00000000e+00 1.84432626e-08] [ 3.60559897e-01 -1.27827356e-08  5.50464467e-09]\n",
      "2\n",
      "[4.06374325e+00 0.00000000e+00 9.74943567e-09] [ 3.28946727e-01 -7.83454614e-09  1.00074945e-08]\n",
      "3\n",
      "[4.25796490e+00 0.00000000e+00 1.54134299e-08] [ 3.02554421e-01 -5.53731939e-09 -4.82320404e-08]\n",
      "4\n",
      "[4.40758760e+00 0.00000000e+00 1.24886596e-08] [ 2.87293219e-01 -2.82426651e-09 -2.17925846e-08]\n",
      "5\n",
      "[4.54986638e+00 5.16148028e-08 1.95082912e-08] [ 2.74553741e-01 -1.06543355e-09  1.02380519e-08]\n",
      "6\n",
      "[4.66199849e+00 0.00000000e+00 1.43326880e-08] [ 2.65059491e-01 -2.33504264e-08 -1.40050655e-07]\n"
     ]
    }
   ],
   "source": [
    "P = [[], [], [], [], [], []]\n",
    "for j in range(len(BIN)):\n",
    "    print(j)\n",
    "    p0 = np.array([])\n",
    "    ABC = minimize_2(X = BIN[j], moy = MOY[j])\n",
    "    DEF = minimize_3(X = BIN[j], std = STD[j])\n",
    "    print(ABC, DEF)\n",
    "    if ABC[0] != None and DEF[0] != None :\n",
    "        P[0].append(ABC[0])\n",
    "        P[1].append(ABC[1])\n",
    "        P[2].append(ABC[2])\n",
    "        P[3].append(DEF[0])\n",
    "        P[4].append(DEF[1])\n",
    "        P[5].append(DEF[2])"
   ]
  },
  {
   "cell_type": "code",
   "execution_count": 68,
   "id": "23325e20-0c10-4372-a1e8-18f1464025a8",
   "metadata": {},
   "outputs": [
    {
     "data": {
      "image/png": "[encoded data removed]",
      "text/plain": [
       "<Figure size 640x480 with 1 Axes>"
      ]
     },
     "metadata": {},
     "output_type": "display_data"
    }
   ],
   "source": [
    "plt.clf()\n",
    "list_bin = [20, 30, 40, 50, 60, 70, 80]\n",
    "plt.scatter(list_bin, P[0], label = 'A', marker = 'o')\n",
    "plt.scatter(list_bin, P[1], label = 'B', marker = 'o')\n",
    "plt.scatter(list_bin, P[2], label = 'C', marker = '+')\n",
    "plt.scatter(list_bin, P[3], label = 'D', marker = 'o')\n",
    "plt.scatter(list_bin, P[4], label = 'E', marker = '+')\n",
    "plt.scatter(list_bin, P[5], label = 'F', marker = '+')\n",
    "\n",
    "plt.yscale('log')\n",
    "plt.grid()\n",
    "plt.xlabel(\"Bin\")\n",
    "plt.ylabel(\"Paramètres\")\n",
    "plt.title('Évolution des paramètres libres')\n",
    "plt.legend()\n",
    "plt.show()"
   ]
  },
  {
   "cell_type": "code",
   "execution_count": null,
   "id": "37ca7d9b-dd77-4c99-9fc0-d85813d37844",
   "metadata": {},
   "outputs": [],
   "source": []
  }
 ],
 "metadata": {
  "kernelspec": {
   "display_name": "kernel",
   "language": "python",
   "name": "kernel"
  },
  "language_info": {
   "codemirror_mode": {
    "name": "ipython",
    "version": 3
   },
   "file_extension": ".py",
   "mimetype": "text/x-python",
   "name": "python",
   "nbconvert_exporter": "python",
   "pygments_lexer": "ipython3",
   "version": "3.12.10"
  }
 },
 "nbformat": 4,
 "nbformat_minor": 5
}
